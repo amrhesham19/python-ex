{
 "cells": [
  {
   "cell_type": "markdown",
   "id": "759d04ba",
   "metadata": {},
   "source": [
    "**1-Write a Python program to calculate the length of a string using 2 ways"
   ]
  },
  {
   "cell_type": "code",
   "execution_count": 27,
   "id": "e434c950",
   "metadata": {
    "scrolled": false
   },
   "outputs": [
    {
     "name": "stdout",
     "output_type": "stream",
     "text": [
      "3\n"
     ]
    }
   ],
   "source": [
    "text = \"amr\"\n",
    "print (len (text))"
   ]
  },
  {
   "cell_type": "code",
   "execution_count": 62,
   "id": "7a2dfa32",
   "metadata": {
    "scrolled": true
   },
   "outputs": [
    {
     "name": "stdout",
     "output_type": "stream",
     "text": [
      "1\n",
      "2\n",
      "3\n"
     ]
    }
   ],
   "source": [
    "text = 'amr'\n",
    "len=0\n",
    "for count in text:\n",
    "    len+=1\n",
    "    print(len)"
   ]
  },
  {
   "cell_type": "markdown",
   "id": "d7cc9da7",
   "metadata": {},
   "source": [
    "**2-Write a Python program to get a string made of the first 2 and last 2 characters of a given string. If the string length is less than 2, return the empty string instead (\"##Sample String : 'w3resource'\n",
    "Expected Result : 'w3ce'\n",
    "##Sample String : 'w3'\n",
    "Expected Result : 'w3w3'\n",
    "##Sample String : ' w'\n",
    "Expected Result : Empty String\n",
    "\n"
   ]
  },
  {
   "cell_type": "code",
   "execution_count": 7,
   "id": "dafa9dd8",
   "metadata": {},
   "outputs": [
    {
     "name": "stdout",
     "output_type": "stream",
     "text": [
      "Please enter a string: am\n",
      "amam\n"
     ]
    }
   ],
   "source": [
    "name = input('Please enter a string: ')\n",
    "\n",
    "if len(name) >= 2:\n",
    "    result = name[0:2] + name[-2:]\n",
    "else:\n",
    "    result = \"\"\n",
    "print (result)    \n",
    "    \n",
    "\n",
    "\n",
    "\n"
   ]
  },
  {
   "cell_type": "markdown",
   "id": "1534f956",
   "metadata": {},
   "source": [
    "**3-Write a Python program to add 'ing' at the end of a given string (length should be at least 3). If the given string already ends with 'ing', add 'ly' instead. If the string length of the given string is less than 3, leave it unchanged. (Sample String : 'abc'\n",
    "Expected Result : 'abcing')"
   ]
  },
  {
   "cell_type": "raw",
   "id": "9e19842e",
   "metadata": {},
   "source": []
  },
  {
   "cell_type": "code",
   "execution_count": 7,
   "id": "7ff8cec4",
   "metadata": {},
   "outputs": [
    {
     "name": "stdout",
     "output_type": "stream",
     "text": [
      "Enter a string: am\n",
      "am\n"
     ]
    }
   ],
   "source": [
    "text = input('Enter a string: ')\n",
    "\n",
    "if len(text) >= 3:\n",
    "    if text[-3:] == 'ing':\n",
    "        result = text + 'ly'\n",
    "    else:\n",
    "        result = text + 'ing'\n",
    "else:\n",
    "    result = text\n",
    "\n",
    "print(result)\n"
   ]
  },
  {
   "cell_type": "markdown",
   "id": "1c0a6627",
   "metadata": {},
   "source": [
    "**4-Write a Python function that takes a list of words and return the longest word and the length of the longest one\n",
    "(Longest word: Exercises\n",
    "Length of the longest word: 9)"
   ]
  },
  {
   "cell_type": "code",
   "execution_count": 31,
   "id": "397341d9",
   "metadata": {},
   "outputs": [
    {
     "name": "stdout",
     "output_type": "stream",
     "text": [
      "longest word: akbresmfehom     the length is: 12\n"
     ]
    }
   ],
   "source": [
    "menu=['amr','ahmed','mohamed','akbresmfehom']\n",
    "longest_word =''\n",
    "length_of_longest=0\n",
    "for word in menu:\n",
    "    if len(word)>length_of_longest:\n",
    "        longest_word=word\n",
    "        length_of_longest=len(word)\n",
    "print('longest word:',word,'    the length is:',length_of_longest)\n",
    "    \n",
    "    \n",
    "\n",
    "    "
   ]
  },
  {
   "cell_type": "markdown",
   "id": "53a03a6a",
   "metadata": {},
   "source": [
    "**5-Write a Python program to change a given string to a newly string where the first and last chars have been exchanged using 2 ways (Sample String:abca  Expected Result:ebce)"
   ]
  },
  {
   "cell_type": "code",
   "execution_count": 3,
   "id": "fd327d2a",
   "metadata": {},
   "outputs": [
    {
     "name": "stdout",
     "output_type": "stream",
     "text": [
      "enter a string:amr\n",
      "enter a new char:e\n",
      "eme\n"
     ]
    }
   ],
   "source": [
    "text=input('enter a string:')\n",
    "new_char = input('enter a new char:')\n",
    "if len (text) >2 :\n",
    "     result = new_char + text[1:-1] + new_char\n",
    "else:\n",
    "    result = text\n",
    "print(result)    \n",
    "\n",
    "    \n",
    "    \n"
   ]
  },
  {
   "cell_type": "markdown",
   "id": "25f89808",
   "metadata": {},
   "source": [
    "**6-Write a Python program to remove characters that have odd index values in a given string (Sample String:abca Expected Result:ac)"
   ]
  },
  {
   "cell_type": "code",
   "execution_count": 11,
   "id": "05959bd7",
   "metadata": {},
   "outputs": [
    {
     "name": "stdout",
     "output_type": "stream",
     "text": [
      "enter a string:abcd\n",
      "ac\n"
     ]
    }
   ],
   "source": [
    "text = input('enter a string:')\n",
    "result=text[0: :2]\n",
    "print(result)\n",
    "    \n"
   ]
  },
  {
   "cell_type": "markdown",
   "id": "eb16e898",
   "metadata": {},
   "source": [
    "**7-Write a Python program to count the occurrences of each word in a given sentence (Sample String:amr and ahmed are frindes but amr is the tallest Expected Result:2)"
   ]
  },
  {
   "cell_type": "code",
   "execution_count": 13,
   "id": "01ce6cf5",
   "metadata": {},
   "outputs": [
    {
     "data": {
      "text/plain": [
       "2"
      ]
     },
     "execution_count": 13,
     "metadata": {},
     "output_type": "execute_result"
    }
   ],
   "source": [
    "text=\"amr amr aho mrten\"\n",
    "text.count('amr')"
   ]
  },
  {
   "cell_type": "markdown",
   "id": "4e8125f1",
   "metadata": {},
   "source": [
    "**8-Write a Python script that takes input from the user and displays that input back in upper and lower cases"
   ]
  },
  {
   "cell_type": "code",
   "execution_count": 1,
   "id": "66c8f778",
   "metadata": {},
   "outputs": [
    {
     "name": "stdout",
     "output_type": "stream",
     "text": [
      "enter a string amr\n",
      "AMR\n",
      "enter a sec string AMR\n"
     ]
    },
    {
     "data": {
      "text/plain": [
       "'amr'"
      ]
     },
     "execution_count": 1,
     "metadata": {},
     "output_type": "execute_result"
    }
   ],
   "source": [
    "text =input('enter a string ')\n",
    "print(text.upper())\n",
    "text2 =input('enter a sec string ')\n",
    "text2.lower()"
   ]
  },
  {
   "cell_type": "markdown",
   "id": "fcd68aa1",
   "metadata": {},
   "source": [
    "**9-Write a Python function to reverse a string if its length is a multiple of 4"
   ]
  },
  {
   "cell_type": "code",
   "execution_count": 10,
   "id": "0671a931",
   "metadata": {},
   "outputs": [
    {
     "name": "stdout",
     "output_type": "stream",
     "text": [
      "Original String: abcdefgh\n",
      "Result: hgfedcba\n"
     ]
    }
   ],
   "source": [
    "\n",
    "input_str = \"abcdefgh\"\n",
    "\n",
    "# Check if the length is a multiple of 4\n",
    "if len(input_str) % 4 == 0:\n",
    "    reversed_str = input_str[::-1]\n",
    "    result = reversed_str\n",
    "else:\n",
    "    result = input_str\n",
    "\n",
    "# Print the result\n",
    "print(f\"Original String: {input_str}\")\n",
    "print(f\"Result: {result}\")\n",
    "\n"
   ]
  },
  {
   "cell_type": "markdown",
   "id": "b577c68d",
   "metadata": {},
   "source": [
    "**10- Write a Python program to remove a newline in Python"
   ]
  },
  {
   "cell_type": "code",
   "execution_count": 17,
   "id": "e0c6525a",
   "metadata": {},
   "outputs": [
    {
     "name": "stdout",
     "output_type": "stream",
     "text": [
      "'ammrrrrrrrrr'\n",
      "'ammrrrrrrrrr'\n"
     ]
    }
   ],
   "source": [
    "text=\"ammrrrrrrrrr\"\n",
    "\n",
    "result=text.rstrip()\n",
    "print(repr(text))\n",
    "print(repr(result))\n",
    "\n",
    "\n"
   ]
  },
  {
   "cell_type": "markdown",
   "id": "80db5ae0",
   "metadata": {},
   "source": [
    "**11-Write a Python program to check whether a string starts with specified characters"
   ]
  },
  {
   "cell_type": "code",
   "execution_count": 2,
   "id": "0cc4e03e",
   "metadata": {},
   "outputs": [
    {
     "name": "stdout",
     "output_type": "stream",
     "text": [
      "enter a string:amr\n",
      "enter a specific char:hesham\n",
      "its not a specified characters\n"
     ]
    }
   ],
   "source": [
    "text = input('enter a string:')\n",
    "specifiec_char=input('enter a specific char:')\n",
    "if text [:len(specifiec_char)]==specifiec_char:\n",
    "    print('its a specified characters')\n",
    "else:\n",
    "    print('its not a specified characters')"
   ]
  },
  {
   "cell_type": "markdown",
   "id": "593a68db",
   "metadata": {},
   "source": [
    "**12- Write a Python program to add prefix text to all of the lines in a string"
   ]
  },
  {
   "cell_type": "code",
   "execution_count": 12,
   "id": "d2e46ada",
   "metadata": {},
   "outputs": [
    {
     "name": "stdout",
     "output_type": "stream",
     "text": [
      "Prefix: This is line 1.\n",
      "Prefix: This is line 2.\n",
      "Prefix: And this is line 3.\n"
     ]
    }
   ],
   "source": [
    "input_string = \"\"\"This is line 1.\n",
    "This is line 2.\n",
    "And this is line 3.\"\"\"\n",
    "\n",
    "prefix = \"Prefix: \"\n",
    "\n",
    "result_string = '\\n'.join([prefix + line for line in input_string.split('\\n')])\n",
    "\n",
    "print(result_string)\n",
    "\n"
   ]
  },
  {
   "cell_type": "markdown",
   "id": "86fa1543",
   "metadata": {},
   "source": [
    "**13-Write a Python program to print the following numbers up to 2 decimal places"
   ]
  },
  {
   "cell_type": "code",
   "execution_count": 19,
   "id": "cd4a9d89",
   "metadata": {},
   "outputs": [
    {
     "name": "stdout",
     "output_type": "stream",
     "text": [
      "enter the float num:2.989\n",
      "2.99\n"
     ]
    }
   ],
   "source": [
    "\n",
    "rounded_num=round(float(input('enter the float num:')),2)\n",
    "\n",
    "print(rounded_num)"
   ]
  },
  {
   "cell_type": "markdown",
   "id": "452c0ab0",
   "metadata": {},
   "source": [
    "**14-Write a Python program to print the following numbers up to 2 decimal places with a sign"
   ]
  },
  {
   "cell_type": "code",
   "execution_count": null,
   "id": "73e82479",
   "metadata": {},
   "outputs": [],
   "source": []
  },
  {
   "cell_type": "markdown",
   "id": "32b1811a",
   "metadata": {},
   "source": [
    "**15-Write a Python program to display a number with a comma separator"
   ]
  },
  {
   "cell_type": "code",
   "execution_count": 20,
   "id": "f30fc0b6",
   "metadata": {},
   "outputs": [
    {
     "name": "stdout",
     "output_type": "stream",
     "text": [
      "1,234,567.89\n"
     ]
    }
   ],
   "source": [
    "number = 1234567.89\n",
    "formatted_number = f'{number:,}'\n",
    "print(formatted_number)\n"
   ]
  },
  {
   "cell_type": "markdown",
   "id": "0477f487",
   "metadata": {},
   "source": [
    "**16-Write a Python program to reverse a string using 2 ways"
   ]
  },
  {
   "cell_type": "code",
   "execution_count": 22,
   "id": "859d72f3",
   "metadata": {},
   "outputs": [
    {
     "name": "stdout",
     "output_type": "stream",
     "text": [
      "amr\n"
     ]
    }
   ],
   "source": [
    "text=\"rma\"\n",
    "text2=''\n",
    "for char in reversed (text):\n",
    "    text2 += char\n",
    "print(text2)    "
   ]
  },
  {
   "cell_type": "code",
   "execution_count": 23,
   "id": "aa8beec8",
   "metadata": {},
   "outputs": [
    {
     "name": "stdout",
     "output_type": "stream",
     "text": [
      "amr\n"
     ]
    }
   ],
   "source": [
    "text='rma'\n",
    "text2=text[::-1]\n",
    "print(text2)"
   ]
  },
  {
   "cell_type": "markdown",
   "id": "5afc3166",
   "metadata": {},
   "source": [
    " **17-Write a Python program to count repeated characters in a string (hint:use dictionary)"
   ]
  },
  {
   "cell_type": "code",
   "execution_count": 25,
   "id": "515a469c",
   "metadata": {},
   "outputs": [
    {
     "name": "stdout",
     "output_type": "stream",
     "text": [
      "{'a': 1, 'm': 1, 'r': 3}\n"
     ]
    }
   ],
   "source": [
    "text='amrrr'\n",
    "dec={}\n",
    "for char in text:\n",
    "    if char !=' ':\n",
    "        dec[char]=dec.get(char,0)+1\n",
    "print(dec)        \n",
    "        "
   ]
  },
  {
   "cell_type": "markdown",
   "id": "ae14e4e5",
   "metadata": {},
   "source": [
    "**18-Write a Python program to find the first non-repeating character in a given string"
   ]
  },
  {
   "cell_type": "code",
   "execution_count": 32,
   "id": "d73778e5",
   "metadata": {},
   "outputs": [
    {
     "name": "stdout",
     "output_type": "stream",
     "text": [
      "enter a string:aamrr\n",
      "m\n"
     ]
    }
   ],
   "source": [
    "text=input('enter a string:')\n",
    "dec={}\n",
    "for char in text:\n",
    "    if char !=' ':\n",
    "        dec[char]=dec.get(char,0)+1\n",
    "first_non_repeating_char = None\n",
    "for char in text:\n",
    "    if char != ' ' and dec[char] == 1:\n",
    "        first_non_repeating_char = char\n",
    "        break\n",
    "print (first_non_repeating_char)      \n",
    "        \n",
    "       "
   ]
  },
  {
   "cell_type": "markdown",
   "id": "3adf5669",
   "metadata": {},
   "source": [
    "**19-Write a Python program to remove spaces from a given string"
   ]
  },
  {
   "cell_type": "code",
   "execution_count": 33,
   "id": "b4f22602",
   "metadata": {},
   "outputs": [
    {
     "name": "stdout",
     "output_type": "stream",
     "text": [
      "enter a string:am r\n",
      "amr\n"
     ]
    }
   ],
   "source": [
    "text =input('enter a string:')\n",
    "result=text.replace(' ','')\n",
    "print (result)\n"
   ]
  },
  {
   "cell_type": "markdown",
   "id": "734de60c",
   "metadata": {},
   "source": [
    "**20-Write a Python program to count the number of non-empty substrings of a given string"
   ]
  },
  {
   "cell_type": "code",
   "execution_count": 35,
   "id": "ef3f2274",
   "metadata": {},
   "outputs": [
    {
     "name": "stdout",
     "output_type": "stream",
     "text": [
      "enter a string:amr\n",
      "The number of non-empty substrings is: 6\n"
     ]
    }
   ],
   "source": [
    "\n",
    "text = input('enter a string:')\n",
    "\n",
    "\n",
    "length = len(text)\n",
    "count_substrings = (length * (length + 1)) // 2\n",
    "\n",
    "print(\"The number of non-empty substrings is:\",count_substrings)\n"
   ]
  },
  {
   "cell_type": "markdown",
   "id": "509998e2",
   "metadata": {},
   "source": [
    "**21-write a Python program to swap first and last element of any list."
   ]
  },
  {
   "cell_type": "code",
   "execution_count": 41,
   "id": "68692d7f",
   "metadata": {},
   "outputs": [
    {
     "name": "stdout",
     "output_type": "stream",
     "text": [
      "[1, 2, 3, 4]\n"
     ]
    }
   ],
   "source": [
    "l=[4,2,3,1]\n",
    "l[0],l[-1]=l[-1],l[0]\n",
    "print(l)\n"
   ]
  },
  {
   "cell_type": "markdown",
   "id": "959e0837",
   "metadata": {},
   "source": [
    "**22-Given a list in Python and provided the positions of the elements, write a program to swap the two elements in the list. (Input : List = [23, 65, 19, 90], pos1 = 1, pos2 = 3\n",
    "Output : [19, 65, 23, 90])\n"
   ]
  },
  {
   "cell_type": "code",
   "execution_count": 43,
   "id": "225d8c6d",
   "metadata": {},
   "outputs": [
    {
     "name": "stdout",
     "output_type": "stream",
     "text": [
      "[19, 65, 23, 90]\n"
     ]
    }
   ],
   "source": [
    "l=[23,65,19,90]\n",
    "l[0] , l[2] = l[2] ,l[0]\n",
    "print (l)"
   ]
  },
  {
   "cell_type": "markdown",
   "id": "66fc6682",
   "metadata": {},
   "source": [
    "**23- search for the all ways to know the length of the list"
   ]
  },
  {
   "cell_type": "code",
   "execution_count": null,
   "id": "63ff8b43",
   "metadata": {},
   "outputs": [],
   "source": [
    "**24-write a Python code to find the Maximum number of list of numbers."
   ]
  },
  {
   "cell_type": "code",
   "execution_count": 6,
   "id": "15f342de",
   "metadata": {},
   "outputs": [
    {
     "name": "stdout",
     "output_type": "stream",
     "text": [
      "93\n"
     ]
    }
   ],
   "source": [
    "l=[1,93,3,4,5,30]\n",
    "maxnum=0\n",
    "for num in l:\n",
    "    if num > maxnum:\n",
    "        maxnum=num\n",
    "print(maxnum)        "
   ]
  },
  {
   "cell_type": "code",
   "execution_count": null,
   "id": "1a89b9d3",
   "metadata": {},
   "outputs": [],
   "source": [
    "**25-write a Python code to find the Minimum number of list of numbers."
   ]
  },
  {
   "cell_type": "code",
   "execution_count": 8,
   "id": "21f8cbd6",
   "metadata": {},
   "outputs": [
    {
     "name": "stdout",
     "output_type": "stream",
     "text": [
      "3\n"
     ]
    }
   ],
   "source": [
    "\n",
    "l=[93,3,4,5,30]\n",
    "if len(l)>2:\n",
    "    minnum=min(l)\n",
    "else:\n",
    "    print('the list is empty')\n",
    "print(minnum)  \n",
    "        "
   ]
  },
  {
   "cell_type": "markdown",
   "id": "96822d96",
   "metadata": {},
   "source": [
    "**26-search for if an elem is existing in list"
   ]
  },
  {
   "cell_type": "code",
   "execution_count": 12,
   "id": "51ca5c9a",
   "metadata": {},
   "outputs": [
    {
     "data": {
      "text/plain": [
       "1"
      ]
     },
     "execution_count": 12,
     "metadata": {},
     "output_type": "execute_result"
    }
   ],
   "source": [
    "l=[3,4,7,9]\n",
    "l.index(4)"
   ]
  },
  {
   "cell_type": "markdown",
   "id": "d9557da7",
   "metadata": {},
   "source": [
    "**27- clear python list using different ways"
   ]
  },
  {
   "cell_type": "code",
   "execution_count": 17,
   "id": "b69858a3",
   "metadata": {},
   "outputs": [
    {
     "name": "stdout",
     "output_type": "stream",
     "text": [
      "[]\n"
     ]
    }
   ],
   "source": [
    "l=[9,8,7,6]\n",
    "l.clear()\n",
    "print(l)"
   ]
  },
  {
   "cell_type": "markdown",
   "id": "52160e88",
   "metadata": {},
   "source": [
    "**28-remove duplicated elements from a list"
   ]
  },
  {
   "cell_type": "code",
   "execution_count": 25,
   "id": "5e362228",
   "metadata": {},
   "outputs": [
    {
     "name": "stdout",
     "output_type": "stream",
     "text": [
      "[1, 2, 3]\n"
     ]
    }
   ],
   "source": [
    "l=[1,1,1,1,2,3]\n",
    "unique_list = []\n",
    "for item in l:\n",
    "    if item not in unique_list:\n",
    "        unique_list.append(item)\n",
    "print(unique_list)        \n"
   ]
  },
  {
   "cell_type": "markdown",
   "id": "282337f7",
   "metadata": {},
   "source": [
    "**29-Given list values and keys list, convert these values to key value pairs in form of list of dictionaries. (Input : test_list = [“Gfg”, 3, “is”, 8], key_list = [“name”, “id”]\n",
    "Output : [{‘name’: ‘Gfg’, ‘id’: 3}, {‘name’: ‘is’, ‘id’: 8}])"
   ]
  },
  {
   "cell_type": "code",
   "execution_count": 1,
   "id": "4d4e2d28",
   "metadata": {},
   "outputs": [
    {
     "name": "stdout",
     "output_type": "stream",
     "text": [
      "The constructed dictionary list : [{'name': 'Gfg', 'number': 3}, {'name': 'is', 'number': 8}, {'name': 'Best', 'number': 10}, {'name': 'for', 'number': 18}, {'name': 'Geeks', 'number': 33}]\n"
     ]
    }
   ],
   "source": [
    "\n",
    "test_list = [\"Gfg\", 3, \"is\", 8, \"Best\", 10, \"for\", 18, \"Geeks\", 33]\n",
    " \n",
    "key_list = [\"name\", \"number\"]\n",
    "\n",
    "res = [{key_list[i]: val for i, val in enumerate(pair)} for pair in zip(test_list[::2], test_list[1::2])]\n",
    "\n",
    "# printing result \n",
    "print(\"The constructed dictionary list : \" + str(res))\n"
   ]
  },
  {
   "cell_type": "markdown",
   "id": "c26b6e9f",
   "metadata": {},
   "source": [
    "**30-write a python program to count unique values inside a list using different ways"
   ]
  },
  {
   "cell_type": "code",
   "execution_count": 15,
   "id": "72132667",
   "metadata": {},
   "outputs": [
    {
     "name": "stdout",
     "output_type": "stream",
     "text": [
      "3\n",
      "{1, 2, 3}\n"
     ]
    }
   ],
   "source": [
    "l=[1,1,2,2,3]\n",
    "l2=set(l)\n",
    "print(len(l2))\n",
    "print(l2)  "
   ]
  },
  {
   "cell_type": "markdown",
   "id": "fed6677c",
   "metadata": {},
   "source": [
    "**31-write a python program Extract all elements with Frequency greater than K (Input : test_list = [4, 6, 4, 3, 3, 4, 3, 4, 3, 8], K = 3 \n",
    "Output : [4, 3] )"
   ]
  },
  {
   "cell_type": "code",
   "execution_count": 55,
   "id": "d81f3f9d",
   "metadata": {},
   "outputs": [
    {
     "name": "stdout",
     "output_type": "stream",
     "text": [
      "Original List: [1, 2, 2, 2, 4, 4, 5, 6, 6, 7, 7, 4]\n",
      "Elements with Frequency Greater Than k : [2, 4]\n"
     ]
    }
   ],
   "source": [
    "\n",
    "my_list = [1, 2, 2, 2, 4, 4, 5, 6, 6, 7, 7, 4]\n",
    "k_value =2 \n",
    "element_frequency = {}\n",
    "for element in my_list:\n",
    "    element_frequency[element] = element_frequency.get(element, 0) + 1\n",
    "result_list = [element for element, frequency in element_frequency.items() if frequency > k_value]\n",
    "print(\"Original List:\", my_list)\n",
    "print(\"Elements with Frequency Greater Than k :\", result_list)\n",
    "\n"
   ]
  },
  {
   "cell_type": "markdown",
   "id": "caca5224",
   "metadata": {},
   "source": [
    "**32-write a python program to find the Strongest Neighbour (Input: 1 2 2 3 4 5\n",
    "Output: 2 2 3 4 5)"
   ]
  },
  {
   "cell_type": "code",
   "execution_count": null,
   "id": "39fbd9b2",
   "metadata": {},
   "outputs": [],
   "source": []
  },
  {
   "cell_type": "markdown",
   "id": "a9fa8baf",
   "metadata": {},
   "source": [
    "**33-write a Python Program to print all Possible Combinations from the three Digits (Input: [1, 2, 3]\n",
    "Output:\n",
    "1 2 3 ##\n",
    "1 3 2 ##\n",
    "2 1 3 ##\n",
    "2 3 1 ##\n",
    "3 1 2 ##\n",
    "3 2 1)"
   ]
  },
  {
   "cell_type": "code",
   "execution_count": 56,
   "id": "8c520a76",
   "metadata": {},
   "outputs": [
    {
     "name": "stdout",
     "output_type": "stream",
     "text": [
      "1 2 3\n",
      "1 3 2\n",
      "2 1 3\n",
      "2 3 1\n",
      "3 1 2\n",
      "3 2 1\n"
     ]
    }
   ],
   "source": [
    "for digit1 in range(1, 4):\n",
    "    for digit2 in range(1, 4):\n",
    "        for digit3 in range(1, 4):\n",
    "            if digit1 != digit2 and digit2 != digit3 and digit1 != digit3:\n",
    "                print(digit1, digit2, digit3)\n"
   ]
  },
  {
   "cell_type": "markdown",
   "id": "5288bb89",
   "metadata": {},
   "source": [
    "**34-write a Python program to find all the Combinations in the list with the given condition (Input: test_list = [1,2,3] \n",
    "Output: \n",
    " [1], [1, 2], [1, 2, 3], [1, 3]\n",
    " [2], [2, 3], [3])"
   ]
  },
  {
   "cell_type": "code",
   "execution_count": 58,
   "id": "59b89646",
   "metadata": {},
   "outputs": [
    {
     "name": "stdout",
     "output_type": "stream",
     "text": [
      "[1]\n",
      "[1, 2]\n",
      "[1, 2, 3]\n",
      "[2]\n",
      "[2, 3]\n",
      "[3]\n"
     ]
    }
   ],
   "source": [
    "# Example list\n",
    "test_list = [1, 2, 3]\n",
    "result = []\n",
    "n = len(test_list)\n",
    "for i in range(n):\n",
    "    for j in range(i, n):\n",
    "        result.append(test_list[i:j + 1])\n",
    "for subset in result:\n",
    "    print(subset)\n"
   ]
  },
  {
   "cell_type": "markdown",
   "id": "39973705",
   "metadata": {},
   "source": [
    "**35-write a Python program to get all unique combinations of two Lists (List_1 = [\"a\",\"b\"]\n",
    "List_2 = [1,2]\n",
    "Unique_combination = [[('a',1),('b',2)],[('a',2),('b',1)]] )"
   ]
  },
  {
   "cell_type": "code",
   "execution_count": 60,
   "id": "8c4ba22b",
   "metadata": {},
   "outputs": [
    {
     "name": "stdout",
     "output_type": "stream",
     "text": [
      "[(1, 'a'), (1, 'b'), (2, 'a'), (2, 'b')]\n"
     ]
    }
   ],
   "source": [
    "l1=[1,2]\n",
    "l2=['a','b']\n",
    "result =[]\n",
    "for elmn1 in l1:\n",
    "    for elm2 in l2:\n",
    "        result.append((elmn1,elm2))\n",
    "print (result)"
   ]
  },
  {
   "cell_type": "markdown",
   "id": "25199af5",
   "metadata": {},
   "source": [
    "**36-Remove all the occurrences of an element from a list in Python (Input : 1 1 2 3 4 5 1 2 1 \n",
    "\n",
    "**Output : 2 3 4 5 2)"
   ]
  },
  {
   "cell_type": "code",
   "execution_count": 70,
   "id": "6dc4c2ba",
   "metadata": {},
   "outputs": [
    {
     "name": "stdout",
     "output_type": "stream",
     "text": [
      "2\n",
      "3\n",
      "4\n",
      "5\n",
      "2\n"
     ]
    }
   ],
   "source": [
    "l=[1,1,2,3,4,5,1,2]\n",
    "remove=1 \n",
    "for x in l:\n",
    "    if x !=remove:\n",
    "        print(x)        \n",
    "            \n",
    "        \n",
    "   "
   ]
  },
  {
   "cell_type": "markdown",
   "id": "bf1a3c93",
   "metadata": {},
   "source": [
    "**37-write a python program to Replace index elements with elements in Other List (The original list 1 is : [‘Gfg’, ‘is’, ‘best’] The original list 2 is : [0, 1, 2, 1, 0, 0, 0, 2, 1, 1, 2, 0] The lists after index elements replacements is : [‘Gfg’, ‘is’, ‘best’, ‘is’, ‘Gfg’, ‘Gfg’, ‘Gfg’, ‘best’, ‘is’, ‘is’, ‘best’, ‘Gfg’])"
   ]
  },
  {
   "cell_type": "code",
   "execution_count": 64,
   "id": "fdd66a71",
   "metadata": {},
   "outputs": [
    {
     "name": "stdout",
     "output_type": "stream",
     "text": [
      "['amr', 'real', 'madrid', 'real', 'amr', 'amr', 'amr', 'madrid', 'real', 'real', 'madrid', 'amr']\n"
     ]
    }
   ],
   "source": [
    "# Original lists\n",
    "list1 = ['amr', 'real', 'madrid']\n",
    "list2 = [0, 1, 2, 1, 0, 0, 0, 2, 1, 1, 2, 0]\n",
    "   \n",
    "res = [list1[idx] for idx in list2]\n",
    "    \n",
    "print(res)\n",
    "    \n",
    "    \n",
    "    \n",
    "    "
   ]
  },
  {
   "cell_type": "markdown",
   "id": "af0f56e8",
   "metadata": {},
   "source": [
    "**38- write python program to Retain records with N occurrences of K(Input : test_list = [(4, 5, 5, 4), (5, 4, 3)], K = 5, N = 2 \n",
    "Output : [(4, 5, 5, 4)]\n",
    "Input : test_list = [(4, 5, 5, 4), (5, 4, 3)], K = 5, N = 3 \n",
    "Output : [] )"
   ]
  },
  {
   "cell_type": "code",
   "execution_count": null,
   "id": "67b06671",
   "metadata": {},
   "outputs": [],
   "source": []
  },
  {
   "cell_type": "markdown",
   "id": "de76f183",
   "metadata": {},
   "source": [
    "**39-write a Python Program to Sort the list according to the column using lambda\n",
    "array = [[1, 3, 3], [2, 1, 2], [3, 2, 1]]\n",
    "Output :\n",
    "Sorted array specific to column 0, [[1, 3, 3], [2, 1, 2], [3, 2, 1]]\n",
    "Sorted array specific to column 1, [[2, 1, 2], [3, 2, 1], [1, 3, 3]]\n",
    "Sorted array specific to column 2, [[3, 2, 1], [2, 1, 2], [1, 3, 3]]"
   ]
  },
  {
   "cell_type": "code",
   "execution_count": null,
   "id": "dc883308",
   "metadata": {},
   "outputs": [],
   "source": []
  },
  {
   "cell_type": "code",
   "execution_count": 15,
   "id": "d2e7b31f",
   "metadata": {},
   "outputs": [
    {
     "ename": "SyntaxError",
     "evalue": "invalid syntax (1197306156.py, line 1)",
     "output_type": "error",
     "traceback": [
      "\u001b[1;36m  Cell \u001b[1;32mIn[15], line 1\u001b[1;36m\u001b[0m\n\u001b[1;33m    **40- write a program to Sort Python Dictionaries by Key or Value\u001b[0m\n\u001b[1;37m    ^\u001b[0m\n\u001b[1;31mSyntaxError\u001b[0m\u001b[1;31m:\u001b[0m invalid syntax\n"
     ]
    }
   ],
   "source": [
    "**40- write a program to Sort Python Dictionaries by Key or Value\n",
    "Input:\n",
    "{'ravi': 10, 'rajnish': 9, 'sanjeev': 15, 'yash': 2, 'suraj': 32}\n",
    "\n",
    "Output: \n",
    "{'rajnish': 9, 'ravi': 10, 'sanjeev': 15, 'suraj': 32, 'yash': 2}"
   ]
  },
  {
   "cell_type": "code",
   "execution_count": null,
   "id": "a96db4a0",
   "metadata": {},
   "outputs": [],
   "source": []
  },
  {
   "cell_type": "markdown",
   "id": "ec63c23a",
   "metadata": {},
   "source": [
    "**41-write python program to Remove keys with Values Greater than K ( Including mixed values )\n",
    "nput : test_dict = {‘Gfg’ : 3, ‘is’ : 7, ‘best’ : 10, ‘for’ : 6, ‘geeks’ : ‘CS’},\n",
    "K = 7 \n",
    "Output : {‘Gfg’ : 3, ‘for’ : 6, ‘geeks’ : ‘CS’}"
   ]
  },
  {
   "cell_type": "code",
   "execution_count": null,
   "id": "e39c3a40",
   "metadata": {},
   "outputs": [],
   "source": []
  },
  {
   "cell_type": "markdown",
   "id": "f143f0fe",
   "metadata": {},
   "source": [
    "**42-Write a Python program to concatenate the following dictionaries to create a new one\n",
    "\n",
    "Sample Dictionary :\n",
    "dic1={1:10, 2:20}\n",
    "dic2={3:30, 4:40}\n",
    "dic3={5:50,6:60}\n",
    "Expected Result : {1: 10, 2: 20, 3: 30, 4: 40, 5: 50, 6: 60}"
   ]
  },
  {
   "cell_type": "code",
   "execution_count": 128,
   "id": "74ffdfea",
   "metadata": {},
   "outputs": [
    {
     "name": "stdout",
     "output_type": "stream",
     "text": [
      "{1: 10, 2: 20, 3: 30, 4: 40, 5: 50, 6: 60}\n"
     ]
    }
   ],
   "source": [
    "dic1={1:10, 2:20}\n",
    "dic2={3:30, 4:40} \n",
    "dic3={5:50,6:60}\n",
    "result_dict = dic1.copy()  # Make a copy of dic1 to keep it unchanged\n",
    "result_dict.update(dic2)\n",
    "result_dict.update(dic3)\n",
    "print(result_dict)\n"
   ]
  },
  {
   "cell_type": "markdown",
   "id": "fb04c93c",
   "metadata": {},
   "source": [
    "**43-Write a Python program to iterate over dictionaries using for loops"
   ]
  },
  {
   "cell_type": "code",
   "execution_count": 117,
   "id": "6aebc470",
   "metadata": {},
   "outputs": [
    {
     "name": "stdout",
     "output_type": "stream",
     "text": [
      "Key: a, Value: 1\n",
      "Key: b, Value: 2\n",
      "Key: c, Value: 3\n"
     ]
    }
   ],
   "source": [
    "# Original dictionary\n",
    "my_dict = {'a': 1, 'b': 2, 'c': 3}\n",
    "\n",
    "# Iterate over keys using a for loop\n",
    "for key in my_dict:\n",
    "    print(f\"Key: {key}, Value: {my_dict[key]}\")\n"
   ]
  },
  {
   "cell_type": "markdown",
   "id": "5f491a9d",
   "metadata": {},
   "source": [
    "**44- Write a Python script to merge two Python dictionaries"
   ]
  },
  {
   "cell_type": "code",
   "execution_count": 116,
   "id": "b8a14028",
   "metadata": {},
   "outputs": [
    {
     "name": "stdout",
     "output_type": "stream",
     "text": [
      "Original Dictionary 1: {'a': 1, 'b': 2}\n",
      "Original Dictionary 2: {'f': 3, 'c': 4}\n",
      "Merged Dictionary: {'a': 1, 'b': 2, 'f': 3, 'c': 4}\n"
     ]
    }
   ],
   "source": [
    "dict1 = {'a': 1, 'b': 2}\n",
    "dict2 = {'f': 3, 'c': 4}\n",
    "merged_dict = dict1.copy()  \n",
    "merged_dict.update(dict2)\n",
    "print(\"Original Dictionary 1:\", dict1)\n",
    "print(\"Original Dictionary 2:\", dict2)\n",
    "print(\"Merged Dictionary:\", merged_dict)\n"
   ]
  },
  {
   "cell_type": "markdown",
   "id": "216fc72d",
   "metadata": {},
   "source": [
    "**45-Write a Python program to get the maximum and minimum values of a dictionary values"
   ]
  },
  {
   "cell_type": "code",
   "execution_count": 114,
   "id": "d6883f5f",
   "metadata": {},
   "outputs": [
    {
     "name": "stdout",
     "output_type": "stream",
     "text": [
      "Original Dictionary: {'a': 10, 'b': 5, 'c': 20, 'd': 15}\n",
      "Maximum Value: 20\n",
      "Minimum Value: 5\n"
     ]
    }
   ],
   "source": [
    "my_dict = {'a': 10, 'b': 5, 'c': 20, 'd': 15}\n",
    "max_value = max(my_dict.values())\n",
    "min_value = min(my_dict.values())\n",
    "print(\"Original Dictionary:\", my_dict)\n",
    "print(\"Maximum Value:\", max_value)\n",
    "print(\"Minimum Value:\", min_value)\n"
   ]
  },
  {
   "cell_type": "markdown",
   "id": "b6a53011",
   "metadata": {},
   "source": [
    "**46- Write a Python program to drop empty items from a given dictionary.\n",
    "Original Dictionary:\n",
    "{'c1': 'Red', 'c2': 'Green', 'c3': None}\n",
    "New Dictionary after dropping empty items:\n",
    "{'c1': 'Red', 'c2': 'Green'}"
   ]
  },
  {
   "cell_type": "code",
   "execution_count": 113,
   "id": "b5c6fecf",
   "metadata": {},
   "outputs": [
    {
     "name": "stdout",
     "output_type": "stream",
     "text": [
      "Original Dictionary: {'c1': 'Red', 'c2': 'Green', 'c3': None}\n",
      "New Dictionary after dropping empty items: {'c1': 'Red', 'c2': 'Green'}\n"
     ]
    }
   ],
   "source": [
    "original_dict = {'c1': 'Red', 'c2': 'Green', 'c3': None}\n",
    "new_dict = {key: value for key, value in original_dict.items() if value is not None }\n",
    "new_dict = {key: value for key, value in new_dict.items() if value is not None}\n",
    "print(\"Original Dictionary:\", original_dict)\n",
    "print(\"New Dictionary after dropping empty items:\", new_dict)\n"
   ]
  },
  {
   "cell_type": "markdown",
   "id": "46d718c7",
   "metadata": {},
   "source": [
    "**47-Write a Python program to create a tuple of numbers and print one item"
   ]
  },
  {
   "cell_type": "code",
   "execution_count": 84,
   "id": "13216ff5",
   "metadata": {},
   "outputs": [
    {
     "data": {
      "text/plain": [
       "2"
      ]
     },
     "execution_count": 84,
     "metadata": {},
     "output_type": "execute_result"
    }
   ],
   "source": [
    "numbers_tuple = (1, 2, 3, 4)\n",
    "numbers_tuple[1] \n"
   ]
  },
  {
   "cell_type": "markdown",
   "id": "2be5b56b",
   "metadata": {},
   "source": [
    "**48-Write a Python program to unpack a tuple into several variables"
   ]
  },
  {
   "cell_type": "code",
   "execution_count": 82,
   "id": "595f44be",
   "metadata": {},
   "outputs": [
    {
     "name": "stdout",
     "output_type": "stream",
     "text": [
      "Variable 1: 1\n",
      "Variable 2: 2\n",
      "Variable 3: 3\n"
     ]
    }
   ],
   "source": [
    "my_tuple = (1, 2, 3)\n",
    "var1, var2, var3 = my_tuple\n",
    "print(\"Variable 1:\", var1)\n",
    "print(\"Variable 2:\", var2)\n",
    "print(\"Variable 3:\", var3)\n"
   ]
  },
  {
   "cell_type": "markdown",
   "id": "392388a7",
   "metadata": {},
   "source": [
    "**49-Write a Python program to add an item to a tuple"
   ]
  },
  {
   "cell_type": "code",
   "execution_count": 76,
   "id": "54cc092e",
   "metadata": {},
   "outputs": [
    {
     "name": "stdout",
     "output_type": "stream",
     "text": [
      "Original Tuple: (1, 2, 3, 4, 5)\n",
      "New Tuple with Added Item: (1, 2, 3, 4, 5, 6)\n"
     ]
    }
   ],
   "source": [
    "\n",
    "original_tuple = (1, 2, 3, 4, 5)\n",
    "new_item =6\n",
    "new_tuple = original_tuple + (new_item,)\n",
    "print(\"Original Tuple:\", original_tuple)\n",
    "print(\"New Tuple with Added Item:\", new_tuple)\n"
   ]
  },
  {
   "cell_type": "markdown",
   "id": "3e8fd124",
   "metadata": {},
   "source": [
    "**50-Write a Python program to convert a tuple to a string"
   ]
  },
  {
   "cell_type": "code",
   "execution_count": 73,
   "id": "92a71ddc",
   "metadata": {},
   "outputs": [
    {
     "name": "stdout",
     "output_type": "stream",
     "text": [
      "Original Tuple: (1, 2, 3, 4, 5)\n",
      "String from Tuple: 12345\n"
     ]
    }
   ],
   "source": [
    "original_tuple = (1, 2, 3, 4, 5)\n",
    "string_from_tuple = ''.join(map(str, original_tuple))\n",
    "print(\"Original Tuple:\", original_tuple)\n",
    "print(\"String from Tuple:\", string_from_tuple)\n"
   ]
  },
  {
   "cell_type": "markdown",
   "id": "f4f64ef4",
   "metadata": {},
   "source": [
    "**51-Write a Python program to convert a list to a tuple"
   ]
  },
  {
   "cell_type": "code",
   "execution_count": 72,
   "id": "c0758d87",
   "metadata": {},
   "outputs": [
    {
     "name": "stdout",
     "output_type": "stream",
     "text": [
      "(1, 2, 3, 4)\n"
     ]
    }
   ],
   "source": [
    "list=[1,2,3,4]\n",
    "tuple_list=tuple(list)\n",
    "print(tuple_list)"
   ]
  },
  {
   "cell_type": "markdown",
   "id": "b1e00ef7",
   "metadata": {},
   "source": [
    "**52-Write a Python program to reverse a tuple"
   ]
  },
  {
   "cell_type": "code",
   "execution_count": 107,
   "id": "f45bfdc7",
   "metadata": {},
   "outputs": [
    {
     "name": "stdout",
     "output_type": "stream",
     "text": [
      "(1, 2, 3, 4, 5)\n",
      "(5, 4, 3, 2, 1)\n"
     ]
    }
   ],
   "source": [
    "original_tuple = (1, 2, 3, 4, 5)\n",
    "list_representation = list(original_tuple)\n",
    "list_representation.reverse()\n",
    "reversed_tuple = tuple(list_representation)\n",
    "print(original_tuple)\n",
    "print(reversed_tuple)\n"
   ]
  },
  {
   "cell_type": "markdown",
   "id": "3cd347d1",
   "metadata": {},
   "source": [
    "**53-Write a Python program to replace the last value of tuples in a list.\n",
    "Sample list: [(10, 20, 40), (40, 50, 60), (70, 80, 90)]\n",
    "Expected Output: [(10, 20, 100), (40, 50, 100), (70, 80, 100)]"
   ]
  },
  {
   "cell_type": "code",
   "execution_count": 106,
   "id": "3c4a2a4c",
   "metadata": {},
   "outputs": [
    {
     "name": "stdout",
     "output_type": "stream",
     "text": [
      "[(10, 20, 100), (40, 50, 100), (70, 80, 100)]\n"
     ]
    }
   ],
   "source": [
    "l = [(10, 20, 40), (40, 50, 60), (70, 80, 90)]\n",
    "print([t[:-1] + (100,) for t in l]) "
   ]
  },
  {
   "cell_type": "markdown",
   "id": "76bb7b39",
   "metadata": {},
   "source": [
    "**54-Write a Python program to convert a given string list to a tuple\n",
    "Original string: python 3.0\n",
    "<class 'str'>\n",
    "Convert the said string to a tuple:\n",
    "('p', 'y', 't', 'h', 'o', 'n', '3', '.', '0')"
   ]
  },
  {
   "cell_type": "code",
   "execution_count": null,
   "id": "51951937",
   "metadata": {},
   "outputs": [],
   "source": []
  },
  {
   "cell_type": "markdown",
   "id": "5a1d5d97",
   "metadata": {},
   "source": [
    "**55-Write a Python program to calculate the average value of the numbers in a given tuple of tuples"
   ]
  },
  {
   "cell_type": "code",
   "execution_count": 90,
   "id": "834e7992",
   "metadata": {},
   "outputs": [
    {
     "name": "stdout",
     "output_type": "stream",
     "text": [
      "5.0\n"
     ]
    }
   ],
   "source": [
    "tuple_of_tuples = ((1, 2, 3), (4, 5, 6), (7, 8, 9))\n",
    "total_sum = 0\n",
    "total_elements = 0\n",
    "for inner_tuple in tuple_of_tuples:\n",
    "    total_sum += sum(inner_tuple)\n",
    "    total_elements += len(inner_tuple)\n",
    "\n",
    "average_value = total_sum / total_elements\n",
    "print(average_value)\n"
   ]
  },
  {
   "cell_type": "markdown",
   "id": "51edab9c",
   "metadata": {},
   "source": [
    "**56-Write a Python program to add member(s) to a set."
   ]
  },
  {
   "cell_type": "code",
   "execution_count": 81,
   "id": "2b65df79",
   "metadata": {},
   "outputs": [
    {
     "name": "stdout",
     "output_type": "stream",
     "text": [
      "{1, 2, 3, 4, 5}\n"
     ]
    }
   ],
   "source": [
    "s={1,2,3,4}\n",
    "s.add(5)\n",
    "print(s)"
   ]
  },
  {
   "cell_type": "markdown",
   "id": "965590cc",
   "metadata": {},
   "source": [
    "**57-Write a Python program to remove an item from a set if it is present in the set."
   ]
  },
  {
   "cell_type": "code",
   "execution_count": 80,
   "id": "866bab28",
   "metadata": {},
   "outputs": [
    {
     "name": "stdout",
     "output_type": "stream",
     "text": [
      "{1, 2, 3}\n"
     ]
    }
   ],
   "source": [
    "s={1,2,3,4}\n",
    "s.remove(4)\n",
    "print(s)"
   ]
  },
  {
   "cell_type": "markdown",
   "id": "2b7cfed1",
   "metadata": {},
   "source": [
    "**58-Write a Python program to create an intersection,union,difference and symmetric difference of sets"
   ]
  },
  {
   "cell_type": "code",
   "execution_count": 78,
   "id": "7f94b7fe",
   "metadata": {},
   "outputs": [
    {
     "name": "stdout",
     "output_type": "stream",
     "text": [
      "{1, 3}\n",
      "{1, 2, 3, 4, 5, 6}\n",
      "{2, 4}\n",
      "{2, 4, 5, 6}\n"
     ]
    }
   ],
   "source": [
    "s1={1,2,3,4}\n",
    "s2={1,3,5,6}\n",
    "intersection= s1.intersection(s2)\n",
    "print(intersection)\n",
    "union=s1.union(s2)\n",
    "print(union)\n",
    "deff=s1.difference(s2)\n",
    "print(deff)\n",
    "sym=s1.symmetric_difference(s2)\n",
    "print(sym)"
   ]
  },
  {
   "cell_type": "markdown",
   "id": "b94931e2",
   "metadata": {},
   "source": [
    "**59-Write a Python program to find the maximum and minimum values in a set"
   ]
  },
  {
   "cell_type": "code",
   "execution_count": 72,
   "id": "203f9600",
   "metadata": {},
   "outputs": [
    {
     "name": "stdout",
     "output_type": "stream",
     "text": [
      "6\n"
     ]
    }
   ],
   "source": [
    "s={1,3,5,6,3}\n",
    "maxnum=0\n",
    "for x in s:\n",
    "    if x>maxnum:\n",
    "        maxnum=x\n",
    "print(maxnum)        "
   ]
  },
  {
   "cell_type": "markdown",
   "id": "255fd554",
   "metadata": {},
   "source": [
    "**60- Write a Python program that finds all pairs of elements in a list whose sum is equal to a given value."
   ]
  },
  {
   "cell_type": "code",
   "execution_count": 71,
   "id": "c2d94e1f",
   "metadata": {},
   "outputs": [
    {
     "name": "stdout",
     "output_type": "stream",
     "text": [
      "[(1, 6), (2, 5), (3, 4)]\n"
     ]
    }
   ],
   "source": [
    "my_list = [1, 2, 3, 4,5,6]\n",
    "target_sum = 7\n",
    "pairs = []\n",
    "for i in range(len(my_list)):\n",
    "    for j in range(i + 1, len(my_list)):\n",
    "        if my_list[i] + my_list[j] == target_sum:\n",
    "            pairs.append((my_list[i], my_list[j]))\n",
    "print(pairs)\n"
   ]
  }
 ],
 "metadata": {
  "kernelspec": {
   "display_name": "Python 3 (ipykernel)",
   "language": "python",
   "name": "python3"
  },
  "language_info": {
   "codemirror_mode": {
    "name": "ipython",
    "version": 3
   },
   "file_extension": ".py",
   "mimetype": "text/x-python",
   "name": "python",
   "nbconvert_exporter": "python",
   "pygments_lexer": "ipython3",
   "version": "3.11.5"
  },
  "varInspector": {
   "cols": {
    "lenName": 16,
    "lenType": 16,
    "lenVar": 40
   },
   "kernels_config": {
    "python": {
     "delete_cmd_postfix": "",
     "delete_cmd_prefix": "del ",
     "library": "var_list.py",
     "varRefreshCmd": "print(var_dic_list())"
    },
    "r": {
     "delete_cmd_postfix": ") ",
     "delete_cmd_prefix": "rm(",
     "library": "var_list.r",
     "varRefreshCmd": "cat(var_dic_list()) "
    }
   },
   "types_to_exclude": [
    "module",
    "function",
    "builtin_function_or_method",
    "instance",
    "_Feature"
   ],
   "window_display": false
  }
 },
 "nbformat": 4,
 "nbformat_minor": 5
}
